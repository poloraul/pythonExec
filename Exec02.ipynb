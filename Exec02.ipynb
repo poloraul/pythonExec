{
 "cells": [
  {
   "cell_type": "markdown",
   "metadata": {},
   "source": [
    "题目：企业发放的奖金根据利润提成。利润(I)低于或等于10万元时，奖金可提10%；利润高于10万元，低于20万元时，低于10万元的部分按10%提成，高于10万元的部分，可提成7.5%；20万到40万之间时，高于20万元的部分，可提成5%；40万到60万之间时高于40万元的部分，可提成3%；60万到100万之间时，高于60万元的部分，可提成1.5%，高于100万元时，超过100万元的部分按1%提成，从键盘输入当月利润I，求应发放奖金总数？"
   ]
  },
  {
   "cell_type": "code",
   "execution_count": 7,
   "metadata": {},
   "outputs": [
    {
     "name": "stdout",
     "output_type": "stream",
     "text": [
      "11500.0\n"
     ]
    }
   ],
   "source": [
    "def bonus(income):\n",
    "    if income > 0 and income <= 100000:\n",
    "        bonus = income *0.1\n",
    "    elif income > 100000 and income <= 200000:\n",
    "        bonus = 100000 * 0.1 + (income - 100000) * 7.5/100\n",
    "    elif income >200000 and income < 400000:\n",
    "        bonus = 100000 * 0.1 + 100000 * 7.5/100 + (income -200000) *5/100\n",
    "    elif income >400000 and income < 600000:\n",
    "        bonus = 100000 * 0.1 + 100000 * 7.5/100 + 200000 *5/100 + (income-400000) * 3/1000\n",
    "    elif income >600000 and income < 1000000:\n",
    "        bonus = 100000 * 0.1 + 100000 * 7.5/100 + 200000 *5/100 + 200000 * 3/1000 + (income-600000) * 1.5/1000\n",
    "    elif income >1000000:\n",
    "        bonus = 100000 * 0.1 + 100000 * 7.5/100 + 200000 *5/100 + 200000 * 3/1000 + 400000 * 1.5/1000 + (income-1000000) * 1/1000\n",
    "    else:\n",
    "        bonus = 0\n",
    "    return bonus\n",
    "\n",
    "i = int(120000)\n",
    "print(bonus(i))\n",
    "\n",
    "        \n",
    "        "
   ]
  }
 ],
 "metadata": {
  "kernelspec": {
   "display_name": "Python 3",
   "language": "python",
   "name": "python3"
  },
  "language_info": {
   "codemirror_mode": {
    "name": "ipython",
    "version": 3
   },
   "file_extension": ".py",
   "mimetype": "text/x-python",
   "name": "python",
   "nbconvert_exporter": "python",
   "pygments_lexer": "ipython3",
   "version": "3.6.3"
  }
 },
 "nbformat": 4,
 "nbformat_minor": 2
}
