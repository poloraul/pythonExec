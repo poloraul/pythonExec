{
 "cells": [
  {
   "cell_type": "code",
   "execution_count": 1,
   "metadata": {},
   "outputs": [
    {
     "name": "stdout",
     "output_type": "stream",
     "text": [
      "{'k': '1', 'k1': '2', 'k2': '3', 'k3': '4'}\n"
     ]
    }
   ],
   "source": [
    "str1=\"k:1|k1:2|k2:3|k3:4\"\n",
    "str_list=str1.split('|')\n",
    "d={}\n",
    "for l in str_list:\n",
    "    key,value=l.split(':')\n",
    "    d[key]=value\n",
    "print(d)"
   ]
  }
 ],
 "metadata": {
  "kernelspec": {
   "display_name": "Python 3",
   "language": "python",
   "name": "python3"
  },
  "language_info": {
   "codemirror_mode": {
    "name": "ipython",
    "version": 3
   },
   "file_extension": ".py",
   "mimetype": "text/x-python",
   "name": "python",
   "nbconvert_exporter": "python",
   "pygments_lexer": "ipython3",
   "version": "3.6.3"
  }
 },
 "nbformat": 4,
 "nbformat_minor": 2
}
