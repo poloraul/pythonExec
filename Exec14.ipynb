{
 "cells": [
  {
   "cell_type": "markdown",
   "metadata": {},
   "source": [
    "题目：将一个正整数分解质因数。例如：输入90,打印出90=2*3*3*5。"
   ]
  },
  {
   "cell_type": "code",
   "execution_count": 29,
   "metadata": {},
   "outputs": [
    {
     "name": "stdout",
     "output_type": "stream",
     "text": [
      "2*2*5*5\n"
     ]
    }
   ],
   "source": [
    "def numsplit(i,k):\n",
    "    for j in range(2,i+1):\n",
    "        m = int(i/j)\n",
    "        if i%j == 0:\n",
    "            numsplit(m,k)\n",
    "            k.append(str(j))\n",
    "            break\n",
    "k=[]\n",
    "numsplit(100,k)\n",
    "print(\"*\".join(sorted(k)))\n"
   ]
  }
 ],
 "metadata": {
  "kernelspec": {
   "display_name": "Python 3",
   "language": "python",
   "name": "python3"
  },
  "language_info": {
   "codemirror_mode": {
    "name": "ipython",
    "version": 3
   },
   "file_extension": ".py",
   "mimetype": "text/x-python",
   "name": "python",
   "nbconvert_exporter": "python",
   "pygments_lexer": "ipython3",
   "version": "3.6.3"
  }
 },
 "nbformat": 4,
 "nbformat_minor": 2
}
