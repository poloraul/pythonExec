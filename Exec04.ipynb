{
 "cells": [
  {
   "cell_type": "markdown",
   "metadata": {},
   "source": [
    "题目：输入某年某月某日，判断这一天是这一年的第几天？"
   ]
  },
  {
   "cell_type": "code",
   "execution_count": 10,
   "metadata": {},
   "outputs": [
    {
     "name": "stdout",
     "output_type": "stream",
     "text": [
      "158\n"
     ]
    }
   ],
   "source": [
    "gap = (0,31,59,90,120,151,181,212,243,273,304,334)\n",
    "def howmanydays(year,mon,day):\n",
    "    days = 0\n",
    "    if mon >0 and mon <= 12:\n",
    "        days = gap[mon-1]\n",
    "    else:\n",
    "        return days;\n",
    "    days += day\n",
    "    if （year%4 == 0 and mon >2: \n",
    "        days +=1\n",
    "    return days\n",
    "\n",
    "print(howmanydays(2015,6,7))\n",
    "        "
   ]
  }
 ],
 "metadata": {
  "kernelspec": {
   "display_name": "Python 3",
   "language": "python",
   "name": "python3"
  },
  "language_info": {
   "codemirror_mode": {
    "name": "ipython",
    "version": 3
   },
   "file_extension": ".py",
   "mimetype": "text/x-python",
   "name": "python",
   "nbconvert_exporter": "python",
   "pygments_lexer": "ipython3",
   "version": "3.6.3"
  }
 },
 "nbformat": 4,
 "nbformat_minor": 2
}
