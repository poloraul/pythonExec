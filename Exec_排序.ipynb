{
 "cells": [
  {
   "cell_type": "markdown",
   "metadata": {},
   "source": [
    "冒泡排序"
   ]
  },
  {
   "cell_type": "code",
   "execution_count": null,
   "metadata": {
    "collapsed": true
   },
   "outputs": [],
   "source": [
    "def bubble_sort(lists):\n",
    "    len_list=len(lists)\n",
    "    for i in range(len_list):\n",
    "        for j in range(len_list-i-1):\n",
    "            if lists[j]>lists[j+1]:\n",
    "                lists[j],lists[j+1]=lists[j+1],lists[j]\n",
    "        print(lists)\n",
    "    return lists"
   ]
  },
  {
   "cell_type": "markdown",
   "metadata": {},
   "source": [
    "插入排序"
   ]
  },
  {
   "cell_type": "code",
   "execution_count": 12,
   "metadata": {},
   "outputs": [
    {
     "name": "stdout",
     "output_type": "stream",
     "text": [
      "[2, 5, 6, 7, 1, 4, 8, 9]\n",
      "[2, 5, 6, 1, 4, 7, 8, 9]\n",
      "[2, 5, 1, 4, 6, 7, 8, 9]\n",
      "[2, 1, 4, 5, 6, 7, 8, 9]\n",
      "[1, 2, 4, 5, 6, 7, 8, 9]\n",
      "[1, 2, 4, 5, 6, 7, 8, 9]\n",
      "[1, 2, 4, 5, 6, 7, 8, 9]\n",
      "[1, 2, 4, 5, 6, 7, 8, 9]\n",
      "[1, 2, 4, 5, 6, 7, 8, 9]\n"
     ]
    }
   ],
   "source": [
    "def insert_sort(lists):\n",
    "\n",
    "    for i in range(len(lists)):\n",
    "        position=i\n",
    "\n",
    "        while position>0:\n",
    "            if lists[position]<lists[position-1]:\n",
    "                lists[position],lists[position-1]=lists[position-1],lists[position]\n",
    "            position-=1\n",
    "        print(lists)\n",
    "    return lists\n",
    "a = [9,2,5,6,7,1,4,8]\n",
    "b = a[:]\n",
    "print(bubble_sort(b))"
   ]
  },
  {
   "cell_type": "code",
   "execution_count": 13,
   "metadata": {},
   "outputs": [
    {
     "name": "stdout",
     "output_type": "stream",
     "text": [
      "[9, 2, 5, 6, 7, 1, 4, 8]\n",
      "[9, 2, 5, 6, 7, 1, 4, 8]\n",
      "[2, 9, 5, 6, 7, 1, 4, 8]\n",
      "[2, 5, 9, 6, 7, 1, 4, 8]\n",
      "[2, 5, 6, 9, 7, 1, 4, 8]\n",
      "[2, 5, 6, 7, 9, 1, 4, 8]\n",
      "[1, 2, 5, 6, 7, 9, 4, 8]\n",
      "[1, 2, 4, 5, 6, 7, 9, 8]\n",
      "[1, 2, 4, 5, 6, 7, 8, 9]\n",
      "[1, 2, 4, 5, 6, 7, 8, 9]\n"
     ]
    }
   ],
   "source": [
    "print(a)\n",
    "c= a[:]\n",
    "print(insert_sort(c))"
   ]
  }
 ],
 "metadata": {
  "kernelspec": {
   "display_name": "Python 3",
   "language": "python",
   "name": "python3"
  },
  "language_info": {
   "codemirror_mode": {
    "name": "ipython",
    "version": 3
   },
   "file_extension": ".py",
   "mimetype": "text/x-python",
   "name": "python",
   "nbconvert_exporter": "python",
   "pygments_lexer": "ipython3",
   "version": "3.6.3"
  }
 },
 "nbformat": 4,
 "nbformat_minor": 2
}
