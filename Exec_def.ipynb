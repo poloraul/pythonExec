{
 "cells": [
  {
   "cell_type": "code",
   "execution_count": 11,
   "metadata": {},
   "outputs": [
    {
     "name": "stdout",
     "output_type": "stream",
     "text": [
      "[]\n",
      "[0, 1]\n",
      "[0, 1]\n",
      "[0, 1, 0, 1, 4]\n"
     ]
    }
   ],
   "source": [
    "def f(x,l=[]):\n",
    "    print(l)\n",
    "    for i in range(x):\n",
    "        l.append(i*i)\n",
    "    print(l)\n",
    "\n",
    "f(2)\n",
    "\n",
    "#f(3,[3,2,1])\n",
    "\n",
    "f(3)"
   ]
  }
 ],
 "metadata": {
  "kernelspec": {
   "display_name": "Python 3",
   "language": "python",
   "name": "python3"
  },
  "language_info": {
   "codemirror_mode": {
    "name": "ipython",
    "version": 3
   },
   "file_extension": ".py",
   "mimetype": "text/x-python",
   "name": "python",
   "nbconvert_exporter": "python",
   "pygments_lexer": "ipython3",
   "version": "3.6.3"
  }
 },
 "nbformat": 4,
 "nbformat_minor": 2
}
