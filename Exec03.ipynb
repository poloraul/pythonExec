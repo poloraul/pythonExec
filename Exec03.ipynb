{
 "cells": [
  {
   "cell_type": "markdown",
   "metadata": {},
   "source": [
    "题目：一个整数，它加上100后是一个完全平方数，再加上168又是一个完全平方数，请问该数是多少？"
   ]
  },
  {
   "cell_type": "code",
   "execution_count": 28,
   "metadata": {},
   "outputs": [
    {
     "name": "stdout",
     "output_type": "stream",
     "text": [
      "-99\n",
      "21\n",
      "261\n",
      "1581\n"
     ]
    }
   ],
   "source": [
    "import math\n",
    "#solution one\n",
    "#解法有些问题，python不允许直接写无限循环，故需要将此问题先转换为有限循环问题\n",
    "for x in range(-100, 100000):\n",
    "    y = x+100\n",
    "    z = y+168\n",
    "    y_sqrt = math.sqrt(y)\n",
    "    if round(y_sqrt) !=  y_sqrt:\n",
    "        continue\n",
    "    z_sqrt = math.sqrt(z)\n",
    "    if round(z_sqrt) !=  z_sqrt:\n",
    "        continue\n",
    "    print(x)"
   ]
  },
  {
   "cell_type": "code",
   "execution_count": 26,
   "metadata": {},
   "outputs": [
    {
     "name": "stdout",
     "output_type": "stream",
     "text": [
      "-99.0\n",
      "21.0\n",
      "261.0\n",
      "1581.0\n"
     ]
    }
   ],
   "source": [
    "#solution two\n",
    "for i in range(1,85):\n",
    "    if 168 % i == 0:\n",
    "        j = 168 / i;\n",
    "        if  i > j and (i + j) % 2 == 0 and (i - j) % 2 == 0 :\n",
    "            m = (i + j) / 2\n",
    "            n = (i - j) / 2\n",
    "            x = n * n - 100\n",
    "            print(x)"
   ]
  }
 ],
 "metadata": {
  "kernelspec": {
   "display_name": "Python 3",
   "language": "python",
   "name": "python3"
  },
  "language_info": {
   "codemirror_mode": {
    "name": "ipython",
    "version": 3
   },
   "file_extension": ".py",
   "mimetype": "text/x-python",
   "name": "python",
   "nbconvert_exporter": "python",
   "pygments_lexer": "ipython3",
   "version": "3.6.3"
  }
 },
 "nbformat": 4,
 "nbformat_minor": 2
}
