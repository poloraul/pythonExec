{
 "cells": [
  {
   "cell_type": "markdown",
   "metadata": {},
   "source": [
    "实现字符串反转 输入str=\"string\"输出'gnirts'"
   ]
  },
  {
   "cell_type": "code",
   "execution_count": 25,
   "metadata": {},
   "outputs": [
    {
     "name": "stdout",
     "output_type": "stream",
     "text": [
      "string\n",
      "mkigeca\n"
     ]
    }
   ],
   "source": [
    "def str_reverse1(string):\n",
    "    L = list(string)\n",
    "    L.reverse()\n",
    "    str(L)\n",
    "    return \"\".join(L)\n",
    "\n",
    "def str_reverse2(str):\n",
    "    return str[::-1]\n",
    "    \n",
    "print(str_reverse2(\"gnirts\"))\n",
    "\n",
    "\n",
    "a = \"abcdefghijklm\"\n",
    "print(a[::-2])"
   ]
  }
 ],
 "metadata": {
  "kernelspec": {
   "display_name": "Python 3",
   "language": "python",
   "name": "python3"
  },
  "language_info": {
   "codemirror_mode": {
    "name": "ipython",
    "version": 3
   },
   "file_extension": ".py",
   "mimetype": "text/x-python",
   "name": "python",
   "nbconvert_exporter": "python",
   "pygments_lexer": "ipython3",
   "version": "3.6.3"
  }
 },
 "nbformat": 4,
 "nbformat_minor": 2
}
